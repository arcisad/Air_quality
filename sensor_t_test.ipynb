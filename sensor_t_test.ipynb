{
 "cells": [
  {
   "cell_type": "code",
   "execution_count": 1,
   "metadata": {},
   "outputs": [],
   "source": [
    "import pandas as pd\n",
    "import numpy as np\n",
    "import matplotlib.pyplot as plt\n",
    "from statsmodels.tsa.stattools import adfuller\n",
    "from sklearn.metrics import mean_squared_error, r2_score\n",
    "from numpy.linalg import inv"
   ]
  },
  {
   "cell_type": "markdown",
   "metadata": {},
   "source": [
    "### Augmented Dicky Fuller test for staitionary data"
   ]
  },
  {
   "cell_type": "markdown",
   "metadata": {},
   "source": [
    "### Reading and preparing data"
   ]
  },
  {
   "cell_type": "code",
   "execution_count": 2,
   "metadata": {},
   "outputs": [
    {
     "data": {
      "text/html": [
       "<div>\n",
       "<style scoped>\n",
       "    .dataframe tbody tr th:only-of-type {\n",
       "        vertical-align: middle;\n",
       "    }\n",
       "\n",
       "    .dataframe tbody tr th {\n",
       "        vertical-align: top;\n",
       "    }\n",
       "\n",
       "    .dataframe thead th {\n",
       "        text-align: right;\n",
       "    }\n",
       "</style>\n",
       "<table border=\"1\" class=\"dataframe\">\n",
       "  <thead>\n",
       "    <tr style=\"text-align: right;\">\n",
       "      <th></th>\n",
       "      <th>date</th>\n",
       "      <th>sensor NO2</th>\n",
       "      <th>TEMP</th>\n",
       "      <th>RH</th>\n",
       "      <th>dewpoint</th>\n",
       "      <th>actual NO2</th>\n",
       "    </tr>\n",
       "  </thead>\n",
       "  <tbody>\n",
       "    <tr>\n",
       "      <th>0</th>\n",
       "      <td>1/01/2018 8:00</td>\n",
       "      <td>22.4</td>\n",
       "      <td>8.4</td>\n",
       "      <td>67.5</td>\n",
       "      <td>2.7</td>\n",
       "      <td>30.0</td>\n",
       "    </tr>\n",
       "    <tr>\n",
       "      <th>1</th>\n",
       "      <td>1/01/2018 9:00</td>\n",
       "      <td>22.1</td>\n",
       "      <td>8.1</td>\n",
       "      <td>66.3</td>\n",
       "      <td>2.2</td>\n",
       "      <td>30.5</td>\n",
       "    </tr>\n",
       "    <tr>\n",
       "      <th>2</th>\n",
       "      <td>1/01/2018 10:00</td>\n",
       "      <td>22.5</td>\n",
       "      <td>7.6</td>\n",
       "      <td>65.2</td>\n",
       "      <td>1.5</td>\n",
       "      <td>29.0</td>\n",
       "    </tr>\n",
       "    <tr>\n",
       "      <th>3</th>\n",
       "      <td>1/01/2018 11:00</td>\n",
       "      <td>20.4</td>\n",
       "      <td>6.9</td>\n",
       "      <td>64.5</td>\n",
       "      <td>0.7</td>\n",
       "      <td>27.6</td>\n",
       "    </tr>\n",
       "    <tr>\n",
       "      <th>4</th>\n",
       "      <td>1/01/2018 12:00</td>\n",
       "      <td>21.6</td>\n",
       "      <td>6.5</td>\n",
       "      <td>62.1</td>\n",
       "      <td>-0.3</td>\n",
       "      <td>30.2</td>\n",
       "    </tr>\n",
       "  </tbody>\n",
       "</table>\n",
       "</div>"
      ],
      "text/plain": [
       "              date  sensor NO2  TEMP    RH  dewpoint  actual NO2\n",
       "0   1/01/2018 8:00        22.4   8.4  67.5       2.7        30.0\n",
       "1   1/01/2018 9:00        22.1   8.1  66.3       2.2        30.5\n",
       "2  1/01/2018 10:00        22.5   7.6  65.2       1.5        29.0\n",
       "3  1/01/2018 11:00        20.4   6.9  64.5       0.7        27.6\n",
       "4  1/01/2018 12:00        21.6   6.5  62.1      -0.3        30.2"
      ]
     },
     "execution_count": 2,
     "metadata": {},
     "output_type": "execute_result"
    }
   ],
   "source": [
    "df = pd.read_csv('Data Scientist test set.csv')\n",
    "dfs = df.dropna().reset_index(drop=True)\n",
    "dfs.head()"
   ]
  },
  {
   "cell_type": "code",
   "execution_count": 3,
   "metadata": {},
   "outputs": [],
   "source": [
    "dfs['date'] = dfs['date'].apply(lambda x : pd.datetime.strptime(x, '%d/%m/%Y %H:%M'))"
   ]
  },
  {
   "cell_type": "markdown",
   "metadata": {},
   "source": [
    "### Linear regression"
   ]
  },
  {
   "cell_type": "code",
   "execution_count": 4,
   "metadata": {},
   "outputs": [],
   "source": [
    "from sklearn.linear_model import LinearRegression, Lasso, Ridge"
   ]
  },
  {
   "cell_type": "code",
   "execution_count": 5,
   "metadata": {},
   "outputs": [],
   "source": [
    "rgs = LinearRegression()"
   ]
  },
  {
   "cell_type": "markdown",
   "metadata": {},
   "source": [
    "#### We divide the time series to training and test set. Test set is used for validating the predictions."
   ]
  },
  {
   "cell_type": "code",
   "execution_count": 6,
   "metadata": {},
   "outputs": [],
   "source": [
    "train = dfs[:1800]\n",
    "test = dfs[1800:]"
   ]
  },
  {
   "cell_type": "markdown",
   "metadata": {},
   "source": [
    "#### Fitting only on the training set"
   ]
  },
  {
   "cell_type": "code",
   "execution_count": 7,
   "metadata": {},
   "outputs": [
    {
     "data": {
      "text/plain": [
       "LinearRegression(copy_X=True, fit_intercept=True, n_jobs=None,\n",
       "         normalize=False)"
      ]
     },
     "execution_count": 7,
     "metadata": {},
     "output_type": "execute_result"
    }
   ],
   "source": [
    "rgs.fit(train[['sensor NO2', 'TEMP', 'dewpoint', 'RH']], train['actual NO2'])"
   ]
  },
  {
   "cell_type": "code",
   "execution_count": 8,
   "metadata": {},
   "outputs": [],
   "source": [
    "pred_reg = rgs.predict(dfs[['sensor NO2', 'TEMP', 'dewpoint', 'RH']])"
   ]
  },
  {
   "cell_type": "markdown",
   "metadata": {},
   "source": [
    "# Kalman Filtering\n",
    "Another way of analysing sensor data when using data from other sensors is Kalman filtering (for data fusion)"
   ]
  },
  {
   "cell_type": "markdown",
   "metadata": {},
   "source": [
    "Code adapted from:\n",
    "https://github.com/PercyJaiswal/Kalman_Filter/blob/master/Kalman%20Filter.py"
   ]
  },
  {
   "cell_type": "code",
   "execution_count": 9,
   "metadata": {},
   "outputs": [],
   "source": [
    "# Prediction and state matrices\n",
    "P = np.array([[15., 0.],\n",
    "              [0., 1.]])\n",
    "A = np.array([\n",
    "        [1., 0.],\n",
    "        [0., 1.]\n",
    "        ])\n",
    "H = np.array([1., 1.])\n",
    "I = np.identity(2)\n",
    "\n",
    "# initial sensor reading\n",
    "z = np.transpose(np.array(dfs[['sensor NO2', 'dewpoint']].iloc[0]))\n",
    "\n",
    "# Measurement and prediction error matrices\n",
    "R = np.array([\n",
    "        [dfs['sensor NO2'].var()/15, 0.],\n",
    "        [0., dfs['dewpoint'].var()]\n",
    "        ])\n",
    "Q = 0.05 * np.eye(2)\n",
    "\n",
    "# initial prediction\n",
    "x = np.transpose(np.array(dfs[['sensor NO2', 'dewpoint']].iloc[0]))\n",
    "\n",
    "#**********************Kalman Filter*****************************\n",
    "def predict():\n",
    "    # Predict Step\n",
    "    global x, A, Q, P\n",
    "    x = np.matmul(A, x)\n",
    "    At = np.transpose(A)\n",
    "    P = np.add(np.matmul(A, np.matmul(P, At)), Q)\n",
    "\n",
    "def update(z):\n",
    "    # Measurement update step\n",
    "    global x, P, H, R\n",
    "    Y = np.subtract(z, np.matmul(H, x))\n",
    "    Ht = np.transpose(H)\n",
    "    S = np.add(np.matmul(H, np.matmul(P, Ht)), R)\n",
    "    K = np.matmul(P, Ht)\n",
    "    Si = inv(S)\n",
    "    K = np.matmul(K, Si)\n",
    "    \n",
    "    # New state\n",
    "    x = np.add(x, np.matmul(K, Y))\n",
    "    P = np.matmul(np.subtract(I ,np.matmul(K, H)), P)\n",
    "\n",
    "#**********************Iterate through sensor measurements********************\n",
    "pred_klf = np.zeros(len(dfs))\n",
    "for i in range (len(dfs)):\n",
    "    new_measurement = np.transpose(np.array(dfs[['sensor NO2', 'dewpoint']].iloc[i]))\n",
    "    #Updating sensor readings\n",
    "    z = new_measurement\n",
    "    #Collecting ground truths\n",
    "    ground_truth = dfs['actual NO2'][i]\n",
    "    #Call Kalman Filter Predict and Update functions.\n",
    "    predict()\n",
    "    update(z)\n",
    "    pred_klf[i] = x[0] "
   ]
  },
  {
   "cell_type": "markdown",
   "metadata": {},
   "source": [
    "In comparision both Regression and Kalman filtering increased the match between the sensor and actual data, however, regression tends to generate better results in this case."
   ]
  },
  {
   "cell_type": "code",
   "execution_count": 22,
   "metadata": {},
   "outputs": [
    {
     "data": {
      "text/plain": [
       "<matplotlib.legend.Legend at 0x1e5fcefa5f8>"
      ]
     },
     "execution_count": 22,
     "metadata": {},
     "output_type": "execute_result"
    },
    {
     "data": {
      "image/png": "[encoded data removed]",
      "text/plain": [
       "<Figure size 1152x648 with 4 Axes>"
      ]
     },
     "metadata": {},
     "output_type": "display_data"
    }
   ],
   "source": [
    "plt.figure(1, figsize=(16, 9))\n",
    "plt.subplot(141)\n",
    "plt.hist(dfs['actual NO2'], label='Actual NO2')\n",
    "plt.ylabel('Frequency')\n",
    "plt.legend()\n",
    "plt.subplot(142)\n",
    "plt.hist(dfs['sensor NO2'], label='Sensor NO2')\n",
    "plt.xlabel('Concentration')\n",
    "plt.legend()\n",
    "plt.subplot(143)\n",
    "plt.hist(pred_reg, label='Regression')\n",
    "plt.legend()\n",
    "plt.subplot(144)\n",
    "plt.hist(pred_klf, label='Kalman')\n",
    "plt.legend()"
   ]
  },
  {
   "cell_type": "code",
   "execution_count": 25,
   "metadata": {},
   "outputs": [],
   "source": [
    "from scipy.stats import shapiro, ttest_ind"
   ]
  },
  {
   "cell_type": "markdown",
   "metadata": {},
   "source": [
    "## Shapiro-Wilk test of normality"
   ]
  },
  {
   "cell_type": "code",
   "execution_count": 23,
   "metadata": {},
   "outputs": [],
   "source": [
    "_, p_act = shapiro(dfs['actual NO2'])\n",
    "_, p_sns = shapiro(dfs['sensor NO2'])\n",
    "_, p_reg = shapiro(pred_reg)\n",
    "_, p_klf = shapiro(pred_klf)"
   ]
  },
  {
   "cell_type": "code",
   "execution_count": 24,
   "metadata": {},
   "outputs": [
    {
     "name": "stdout",
     "output_type": "stream",
     "text": [
      "p-value for Actual data: 5.384077396010571e-32\n",
      "p-value for Sensor data: 8.549895371838788e-24\n",
      "p-value for Regression: 2.0652239560896195e-30\n",
      "p-value for Kalman: 1.5738533105185296e-25\n"
     ]
    }
   ],
   "source": [
    "print('p-value for Actual data: {0}'.format(p_act))\n",
    "print('p-value for Sensor data: {0}'.format(p_sns))\n",
    "print('p-value for Regression: {0}'.format(p_reg))\n",
    "print('p-value for Kalman: {0}'.format(p_klf))"
   ]
  },
  {
   "cell_type": "markdown",
   "metadata": {},
   "source": [
    "## T-Test\n",
    "If we assume that the data set is a subset of a larger one.\n",
    "\n",
    "Normality tests reject the null hypothesis that the data for all four distributions are coming from a normal distribution, however, according to the Central Limit Theorem we may assume that we have enough data for a normal distribution so we run t-test to check the similarity of the average of the estimates to the actual data. "
   ]
  },
  {
   "cell_type": "code",
   "execution_count": 28,
   "metadata": {},
   "outputs": [],
   "source": [
    "_, p_tt_act_sns = ttest_ind(dfs['actual NO2'], dfs['sensor NO2'])\n",
    "_, p_tt_act_reg = ttest_ind(dfs['actual NO2'], pred_reg)\n",
    "_, p_tt_act_klf = ttest_ind(dfs['actual NO2'], pred_klf)"
   ]
  },
  {
   "cell_type": "code",
   "execution_count": 29,
   "metadata": {},
   "outputs": [
    {
     "name": "stdout",
     "output_type": "stream",
     "text": [
      "p-value for Actual data_Sensor data ttest: 5.3157166460023694e-110\n",
      "p-value for Actual data_Regression ttest: 0.4743790535540757\n",
      "p-value for Actual data_Kalman ttest: 5.040646082631578e-18\n"
     ]
    }
   ],
   "source": [
    "print('p-value for Actual data_Sensor data ttest: {0}'.format(p_tt_act_sns))\n",
    "print('p-value for Actual data_Regression ttest: {0}'.format(p_tt_act_reg))\n",
    "print('p-value for Actual data_Kalman ttest: {0}'.format(p_tt_act_klf))"
   ]
  },
  {
   "cell_type": "markdown",
   "metadata": {},
   "source": [
    "Only **Regression** does not reject the null hyothesis which means that the larger population of the regression estimation shows no difference with the actual sensor data in their means.\n",
    "\n",
    "Here again Regression performs better."
   ]
  },
  {
   "cell_type": "code",
   "execution_count": null,
   "metadata": {},
   "outputs": [],
   "source": []
  }
 ],
 "metadata": {
  "kernelspec": {
   "display_name": "Python 3",
   "language": "python",
   "name": "python3"
  },
  "language_info": {
   "codemirror_mode": {
    "name": "ipython",
    "version": 3
   },
   "file_extension": ".py",
   "mimetype": "text/x-python",
   "name": "python",
   "nbconvert_exporter": "python",
   "pygments_lexer": "ipython3",
   "version": "3.6.8"
  }
 },
 "nbformat": 4,
 "nbformat_minor": 2
}
